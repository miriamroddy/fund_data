{
 "cells": [
  {
   "attachments": {},
   "cell_type": "markdown",
   "metadata": {},
   "source": [
    "## Fundamentals of Data Analysis Project\n",
    "**Miriam Roddy**"
   ]
  },
  {
   "attachments": {},
   "cell_type": "markdown",
   "metadata": {},
   "source": [
    "## Project\n",
    "- The project is to create a notebook investigating the variables and data points within the well-known iris flower data set associated\n",
    "with Ronald A Fisher.\n",
    "\n",
    "- In the notebook, you should discuss the classification of each variable within the data set according to common variable types\n",
    "and scales of measurement in mathematics, statistics, and Python.\n",
    "\n",
    "- Select, demonstrate, and explain the most appropriate summary statistics to describe each variable.\n",
    "\n",
    "- Select, demonstrate, and explain the most appropriate plot(s) for each variable.\n",
    "\n",
    "- The notebook should follow a cohesive narrative about the data set."
   ]
  },
  {
   "attachments": {},
   "cell_type": "markdown",
   "metadata": {},
   "source": [
    "## Table of Contents\n",
    "\n",
    "- [Introduction](#introduction)\n",
    "- [Exploratory Data Analysis](#exploratory-data-analysis)\n",
    "- [Classification of Variables](#variable-classification)\n",
    "- [Summary Statistics](#summary-statistics)\n",
    "- [Data Exploration and Visualisation](#data-exploration-and-visualisation)\n",
    "- [Additional Analysis](#additional-analysis)\n",
    "- [Conclusion](#conclusion)\n",
    "- [References](#references)"
   ]
  },
  {
   "attachments": {},
   "cell_type": "markdown",
   "metadata": {},
   "source": [
    "# Iris Dataset Overview\n",
    "\n",
    "## 1. Introduction\n",
    "   - Overview of the Iris dataset/Fisher.\n",
    "\n",
    "## 2. Exploratory Data Analysis\n",
    "   - Dataset structure.\n",
    "\n",
    "## 3. Variable Classification\n",
    "   - Discuss on the classification of each variable within the Iris dataset.\n",
    "   - Explanation of how each variable aligns with common variable types and scales of measurement in maths/stats/Python.\n",
    "\n",
    "## 4. Summary Statistics\n",
    "   - Explanation of the chosen summary stats for each variable.\n",
    "   - Discussion onsignificance of these statistics in describing the dataset.\n",
    "\n",
    "## 5. Data Exploration and Visualisation\n",
    "   - Discussion why we visualising data\n",
    "   - Explanation of the chosen plots for each variable.\n",
    "\n",
    "## 8. Additional Analysis\n",
    "   - Additional analysis, insights & visualisations.\n",
    "\n",
    "## 7. Conclusion\n",
    "   - Summary of key findings from variable classification, summary statistics, and plots/visualisations.\n",
    "   - Reflection on the implications of the analysis.\n",
    "\n",
    "\n",
    "## 9. References\n",
    "   \n"
   ]
  },
  {
   "attachments": {},
   "cell_type": "markdown",
   "metadata": {},
   "source": [
    "***\n",
    "## End"
   ]
  },
  {
   "cell_type": "code",
   "execution_count": null,
   "metadata": {},
   "outputs": [],
   "source": []
  }
 ],
 "metadata": {
  "kernelspec": {
   "display_name": "Python 3",
   "language": "python",
   "name": "python3"
  },
  "language_info": {
   "codemirror_mode": {
    "name": "ipython",
    "version": 3
   },
   "file_extension": ".py",
   "mimetype": "text/x-python",
   "name": "python",
   "nbconvert_exporter": "python",
   "pygments_lexer": "ipython3",
   "version": "3.11.1"
  },
  "orig_nbformat": 4,
  "vscode": {
   "interpreter": {
    "hash": "ff4b1fca65a764b45acb559e482afe389d289dd599b9f8c5fd12ff5c2ea46a65"
   }
  }
 },
 "nbformat": 4,
 "nbformat_minor": 2
}
