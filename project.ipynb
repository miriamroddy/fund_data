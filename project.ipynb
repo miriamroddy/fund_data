{
 "cells": [
  {
   "attachments": {},
   "cell_type": "markdown",
   "metadata": {},
   "source": [
    "## Fundamentals of Data Analysis Project\n",
    "**Miriam Roddy**"
   ]
  },
  {
   "attachments": {},
   "cell_type": "markdown",
   "metadata": {},
   "source": [
    "## Project\n",
    "- The project is to create a notebook investigating the variables and data points within the well-known iris flower data set associated\n",
    "with Ronald A Fisher.\n",
    "\n",
    "- In the notebook, you should discuss the classification of each variable within the data set according to common variable types\n",
    "and scales of measurement in mathematics, statistics, and Python.\n",
    "\n",
    "- Select, demonstrate, and explain the most appropriate summary statistics to describe each variable.\n",
    "\n",
    "- Select, demonstrate, and explain the most appropriate plot(s) for each variable.\n",
    "\n",
    "- The notebook should follow a cohesive narrative about the data set."
   ]
  },
  {
   "attachments": {},
   "cell_type": "markdown",
   "metadata": {},
   "source": [
    "## Table of Contents\n",
    "\n",
    "- [Introduction](#introduction)\n",
    "- [Exploratory Data Analysis](#exploratory-data-analysis)\n",
    "- [Classification of Variables](#variable-classification)\n",
    "- [Summary Statistics](#summary-statistics)\n",
    "- [Data Exploration and Visualisation](#data-exploration-and-visualisation)\n",
    "- [Additional Analysis](#additional-analysis)\n",
    "- [Conclusion](#conclusion)\n",
    "- [References](#references)"
   ]
  },
  {
   "attachments": {},
   "cell_type": "markdown",
   "metadata": {},
   "source": [
    "# Iris Dataset Overview\n",
    "\n",
    "## 1. Introduction\n",
    "   ## Introduction\n",
    "\n",
    "The Iris dataset, introduced by Ronald Fisher in 1936 as part of his research on multivariate statistics, is a commonly within data science. The dataset consists of 150 observations of iris flowers, each with four measurements: sepal length, sepal width, petal length, and petal width.\n",
    "\n",
    "The dataset is useful when exploring different machine learning algorithms, as it provides a means of comparing and evaluating the performance of different models. A task frequently cited in the literature is one that classifies the observations into one of three species of iris flowers: Iris setosa, Iris versicolor, and Iris virginica. Additionally, the dataset is frequently used to assess the performace of different classification algorithms, such as decision trees, support vector machines, and artificial neural networks.\n",
    "\n",
    "A strength of the dataset is that it is [well-balanced](https://towardsdatascience.com/eda-of-the-iris-dataset-190f6dfd946d#:~:text=The%20dataset%20is%20balanced%20i.e.,petal%20width%20and%20petal%20length), with an equal number of observations for each of the three species. This is in contrast to the [palmerpenguin](https://allisonhorst.github.io/palmerpenguins/) dataset, [also studied](https://github.com/miriamroddy/fund_data/blob/main/tasks.ipynb) in this module. Since the dataset is well-balanced, it reduces the risk of bias towards one particular class. Additionally, the dataset is relatively small, which makes it easy to work with and analyse. In this project, I will use various Python libraries to investigate the dataset. I'll briefly assess whether parametric or non-parametric methods are more suitable for anaklysis, then explore the data with various visualisation techniques. \n",
    "\n",
    "\n",
    "## 2. Exploratory Data Analysis\n",
    "   - Dataset structure.\n",
    "\n",
    "## 3. Variable Classification\n",
    "   - Discuss on the classification of each variable within the Iris dataset.\n",
    "   - Explanation of how each variable aligns with common variable types and scales of measurement in maths/stats/Python.\n",
    "\n",
    "## 4. Summary Statistics\n",
    "   - Explanation of the chosen summary stats for each variable.\n",
    "   - Discussion onsignificance of these statistics in describing the dataset.\n",
    "\n",
    "## 5. Data Exploration and Visualisation\n",
    "   - Discussion why we visualising data\n",
    "   - Explanation of the chosen plots for each variable.\n",
    "\n",
    "## 8. Additional Analysis\n",
    "   - Additional analysis, insights & visualisations.\n",
    "\n",
    "## 7. Conclusion\n",
    "   - Summary of key findings from variable classification, summary statistics, and plots/visualisations.\n",
    "   - Reflection on the implications of the analysis.\n",
    "\n",
    "\n",
    "## 9. References\n",
    "   \n"
   ]
  },
  {
   "attachments": {},
   "cell_type": "markdown",
   "metadata": {},
   "source": [
    "***\n",
    "## End"
   ]
  },
  {
   "cell_type": "code",
   "execution_count": null,
   "metadata": {},
   "outputs": [],
   "source": []
  }
 ],
 "metadata": {
  "kernelspec": {
   "display_name": "Python 3",
   "language": "python",
   "name": "python3"
  },
  "language_info": {
   "codemirror_mode": {
    "name": "ipython",
    "version": 3
   },
   "file_extension": ".py",
   "mimetype": "text/x-python",
   "name": "python",
   "nbconvert_exporter": "python",
   "pygments_lexer": "ipython3",
   "version": "3.11.1"
  },
  "orig_nbformat": 4,
  "vscode": {
   "interpreter": {
    "hash": "ff4b1fca65a764b45acb559e482afe389d289dd599b9f8c5fd12ff5c2ea46a65"
   }
  }
 },
 "nbformat": 4,
 "nbformat_minor": 2
}
