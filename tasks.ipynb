{
 "cells": [
  {
   "attachments": {},
   "cell_type": "markdown",
   "metadata": {},
   "source": [
    "## Fundamentals of Data Analysis Tasks\n",
    "**Miriam Roddy**"
   ]
  },
  {
   "attachments": {},
   "cell_type": "markdown",
   "metadata": {},
   "source": [
    "## Task 1 \n",
    "**Your task is to verify, using Python, that the [collatz] conjecture is true for\n",
    "the first 10,000 positive integers.**"
   ]
  },
  {
   "attachments": {},
   "cell_type": "markdown",
   "metadata": {},
   "source": [
    "The Collatz Conjecture is an [slightly head-melting](https://imgs.xkcd.com/comics/collatz_conjecture.png) unsolved problem in mathematics, which posits that if you repeatedly apply a simple set of rules to a positive integer, you will eventually reach the number 1. If the previous integer is even, the next integer is half of the previous integer. It it's odd, the next integer is three times the previous plus one. The conjecture is that you will always reach number 1. The formula for the conjecture is:\n",
    "\n",
    "\\begin{cases}\n",
    "    n/2 & \\text{if } n \\text{ is even} \\\\\n",
    "    3n+1 & \\text{if } n \\text{ is odd}\n",
    "\\end{cases}\n",
    "\n",
    "The first challenge here is to understand the problem before implementing it in code. After learning about some of the theory behind the conjecture from [Veritasium](https://www.youtube.com/watch?v=094y1Z2wpJg&t=1s&ab_channel=Veritasium), I researched how a sequence of calculations could best be done in Python. [This article in medium](https://medium.com/the-art-of-python/the-collatz-sequence-in-python-eb7e1f1b4f9e) was useful as was [Geeksforgeeks](https://www.geeksforgeeks.org/program-to-print-collatz-sequence/), which explained this particularly simply.\n",
    "\n",
    "\n",
    "\n",
    "\n",
    "\n"
   ]
  },
  {
   "cell_type": "code",
   "execution_count": 63,
   "metadata": {},
   "outputs": [],
   "source": [
    "def f(x):\n",
    "        # If x is even, divide it by two.\n",
    "        if x % 2 == 0:\n",
    "            return x // 2\n",
    "        else:\n",
    "            return (3 * x) + 1"
   ]
  },
  {
   "cell_type": "markdown",
   "metadata": {},
   "source": []
  },
  {
   "cell_type": "code",
   "execution_count": 64,
   "metadata": {},
   "outputs": [],
   "source": [
    "def collatz(x):\n",
    "\n",
    "        while x != 1:\n",
    "            print(x, end=', ')\n",
    "            x = f(x)\n",
    "        print(f'(Testing Collatz with initial value {x})')"
   ]
  },
  {
   "cell_type": "code",
   "execution_count": 65,
   "metadata": {},
   "outputs": [
    {
     "name": "stdout",
     "output_type": "stream",
     "text": [
      "10000, 5000, 2500, 1250, 625, 1876, 938, 469, 1408, 704, 352, 176, 88, 44, 22, 11, 34, 17, 52, 26, 13, 40, 20, 10, 5, 16, 8, 4, 2, (Testing Collatz with initial value 1)\n"
     ]
    }
   ],
   "source": [
    "collatz(10000)\n"
   ]
  },
  {
   "attachments": {},
   "cell_type": "markdown",
   "metadata": {},
   "source": [
    "## Task 2 \n",
    "Give an overview of the famous penguins data set, explaining the types of variables it contains. Suggest the types of variables that should be\n",
    "used to model them in Python, explaining your rationale."
   ]
  },
  {
   "attachments": {},
   "cell_type": "markdown",
   "metadata": {},
   "source": [
    "## Task 3 \n",
    "For each of the variables in the penguins data set, suggest what probability distribution from the numpy random distributions list\n",
    "is the most appropriate to model the variable."
   ]
  },
  {
   "cell_type": "code",
   "execution_count": 66,
   "metadata": {},
   "outputs": [
    {
     "data": {
      "text/plain": [
       "array([-0.55455728, -0.63434441, -0.5037923 ])"
      ]
     },
     "execution_count": 66,
     "metadata": {},
     "output_type": "execute_result"
    }
   ],
   "source": [
    "import numpy as np\n",
    "rng = np.random.default_rng()  # Add () to create a random number generator\n",
    "rng.random()\n",
    "rng.standard_normal(3)\n"
   ]
  },
  {
   "attachments": {},
   "cell_type": "markdown",
   "metadata": {},
   "source": [
    "## Task 4\n",
    "Suppose you are flipping two coins, each with a probability p of giving heads. Plot the entropy of the total number of heads versus p."
   ]
  },
  {
   "attachments": {},
   "cell_type": "markdown",
   "metadata": {},
   "source": [
    "## Task 5\n",
    "Create an appropriate individual plot for each of the variables in the penguin data set."
   ]
  },
  {
   "attachments": {},
   "cell_type": "markdown",
   "metadata": {},
   "source": [
    "***\n",
    "## End"
   ]
  }
 ],
 "metadata": {
  "kernelspec": {
   "display_name": "Python 3",
   "language": "python",
   "name": "python3"
  },
  "language_info": {
   "codemirror_mode": {
    "name": "ipython",
    "version": 3
   },
   "file_extension": ".py",
   "mimetype": "text/x-python",
   "name": "python",
   "nbconvert_exporter": "python",
   "pygments_lexer": "ipython3",
   "version": "3.11.1"
  },
  "orig_nbformat": 4,
  "vscode": {
   "interpreter": {
    "hash": "ff4b1fca65a764b45acb559e482afe389d289dd599b9f8c5fd12ff5c2ea46a65"
   }
  }
 },
 "nbformat": 4,
 "nbformat_minor": 2
}
