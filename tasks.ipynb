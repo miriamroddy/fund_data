{
 "cells": [
  {
   "attachments": {},
   "cell_type": "markdown",
   "metadata": {},
   "source": [
    "## Fundamentals of Data Analysis Tasks\n",
    "**Miriam Roddy**"
   ]
  },
  {
   "attachments": {},
   "cell_type": "markdown",
   "metadata": {},
   "source": [
    "## Task 1 \n",
    "**Your task is to verify, using Python, that the [collatz] conjecture is true for\n",
    "the first 10,000 positive integers.**"
   ]
  },
  {
   "attachments": {},
   "cell_type": "markdown",
   "metadata": {},
   "source": [
    "The Collatz Conjecture is an [slightly head-melting](https://imgs.xkcd.com/comics/collatz_conjecture.png) unsolved problem in mathematics, which posits that if you repeatedly apply a simple set of rules to a positive integer, you will eventually reach the number 1. If the previous integer is even, the next integer is half of the previous integer. It it's odd, the next integer is three times the previous plus one. The conjecture is that you will always reach number 1. The formula for the conjecture is:\n",
    "\n",
    "\\begin{cases}\n",
    "    n/2 & \\text{if } n \\text{ is even} \\\\\n",
    "    3n+1 & \\text{if } n \\text{ is odd}\n",
    "\\end{cases}\n",
    "\n",
    "The first challenge here is to understand the problem before implementing it in code. In a previous module, I had learned about some of the theory behind the conjecture from [Veritasium](https://www.youtube.com/watch?v=094y1Z2wpJg&t=1s&ab_channel=Veritasium), and had researched how a sequence of calculations could best be done in Python. [This article in medium](https://medium.com/the-art-of-python/the-collatz-sequence-in-python-eb7e1f1b4f9e) was useful as was [Geeksforgeeks](https://www.geeksforgeeks.org/program-to-print-collatz-sequence/).\n",
    "\n",
    "\n",
    "Our code is not a formal proof, since we have only demonstrated the conjecture's validity for a finite set of numbers. We'll leave that kind of heavy lifting to [Riho Terras](https://en.wikipedia.org/wiki/Riho_Terras_(mathematician)#:~:text=He%20is%20known%20for%20the,established%20bounds%20for%20the%20conjecture.), who managed to prove that the conjecture was true for \"almost all\" numbers.\n",
    "\n",
    "\n"
   ]
  },
  {
   "cell_type": "code",
   "execution_count": 6,
   "metadata": {},
   "outputs": [],
   "source": [
    "def f(x):\n",
    "        ## If x is even, divide it by two.\n",
    "        if x % 2 == 0:\n",
    "            return x // 2\n",
    "        else:\n",
    "            return (3 * x) + 1"
   ]
  },
  {
   "cell_type": "markdown",
   "metadata": {},
   "source": []
  },
  {
   "cell_type": "code",
   "execution_count": 7,
   "metadata": {},
   "outputs": [],
   "source": [
    "def collatz(x):\n",
    "\n",
    "        while x != 1:\n",
    "            print(x, end=', ')\n",
    "            x = f(x)\n",
    "        print(f'(Testing Collatz with initial value {x})')"
   ]
  },
  {
   "cell_type": "code",
   "execution_count": 8,
   "metadata": {},
   "outputs": [
    {
     "name": "stdout",
     "output_type": "stream",
     "text": [
      "10000, 5000, 2500, 1250, 625, 1876, 938, 469, 1408, 704, 352, 176, 88, 44, 22, 11, 34, 17, 52, 26, 13, 40, 20, 10, 5, 16, 8, 4, 2, (Testing Collatz with initial value 1)\n"
     ]
    }
   ],
   "source": [
    "collatz(10000)\n"
   ]
  },
  {
   "attachments": {},
   "cell_type": "markdown",
   "metadata": {},
   "source": [
    "Our code is not a formal proof, since we have only demonstrated the conjecture's validity for a finite set of numbers. We'll leave that kind of heavy lifting to [Riho Terras](https://en.wikipedia.org/wiki/Riho_Terras_(mathematician)#:~:text=He%20is%20known%20for%20the,established%20bounds%20for%20the%20conjecture.), who managed to prove that the conjecture was true for \"almost all\" numbers."
   ]
  },
  {
   "attachments": {},
   "cell_type": "markdown",
   "metadata": {},
   "source": [
    "## Task 2 \n",
    "**Give an overview of the famous penguins data set, explaining the types of variables it contains. Suggest the types of variables that should be\n",
    "used to model them in Python, explaining your rationale.**\n",
    "\n",
    "![Penguins](https://github.com/miriamroddy/fund_data/blob/main/Images/penguins.png)\n",
    "\n",
    "The \"Palmer Penguins\" dataset is a widely used dataset in data science and machine learning. Overuse of the Iris dataset alongside Fisher’s association with eugenics make the penguin dataset a popular alternative.\n",
    "\n",
    "It contains information about three penguin species: Adelie, Chinstrap, and Gentoo. There are two penguins datasets - one is the raw data collected by the researchers and the second is [ ].\n"
   ]
  },
  {
   "cell_type": "code",
   "execution_count": 9,
   "metadata": {},
   "outputs": [
    {
     "name": "stdout",
     "output_type": "stream",
     "text": [
      "  species     island  bill_length_mm  bill_depth_mm  flipper_length_mm   \n",
      "0  Adelie  Torgersen            39.1           18.7              181.0  \\\n",
      "1  Adelie  Torgersen            39.5           17.4              186.0   \n",
      "2  Adelie  Torgersen            40.3           18.0              195.0   \n",
      "3  Adelie  Torgersen             NaN            NaN                NaN   \n",
      "4  Adelie  Torgersen            36.7           19.3              193.0   \n",
      "\n",
      "   body_mass_g     sex  \n",
      "0       3750.0    MALE  \n",
      "1       3800.0  FEMALE  \n",
      "2       3250.0  FEMALE  \n",
      "3          NaN     NaN  \n",
      "4       3450.0  FEMALE  \n",
      "\n",
      "--------------------------------------------\n",
      "\n",
      "       bill_length_mm  bill_depth_mm  flipper_length_mm  body_mass_g\n",
      "count      342.000000     342.000000         342.000000   342.000000\n",
      "mean        43.921930      17.151170         200.915205  4201.754386\n",
      "std          5.459584       1.974793          14.061714   801.954536\n",
      "min         32.100000      13.100000         172.000000  2700.000000\n",
      "25%         39.225000      15.600000         190.000000  3550.000000\n",
      "50%         44.450000      17.300000         197.000000  4050.000000\n",
      "75%         48.500000      18.700000         213.000000  4750.000000\n",
      "max         59.600000      21.500000         231.000000  6300.000000\n"
     ]
    }
   ],
   "source": [
    "## Import the pandas library\n",
    "import pandas as pd\n",
    "## We load data from a CSV file named 'penguins.csv' into a pandas DataFrame called 'penguindata':\n",
    "penguindata = pd.read_csv('Data/penguins.csv')\n",
    "\n",
    "# Display the first few rows of the DataFrame\n",
    "print(penguindata.head())\n",
    "\n",
    "print(\"\\n--------------------------------------------\\n\")\n",
    "\n",
    "# View summary statistics\n",
    "print(penguindata.describe())\n",
    "\n"
   ]
  },
  {
   "attachments": {},
   "cell_type": "markdown",
   "metadata": {},
   "source": [
    "## Task 3 \n",
    "**For each of the variables in the penguins data set, suggest what probability distribution from the numpy random distributions list\n",
    "is the most appropriate to model the variable.**"
   ]
  },
  {
   "cell_type": "code",
   "execution_count": 10,
   "metadata": {},
   "outputs": [
    {
     "data": {
      "text/plain": [
       "array([-4.21929107e-02,  2.55947859e+00,  2.49989283e-03])"
      ]
     },
     "execution_count": 10,
     "metadata": {},
     "output_type": "execute_result"
    }
   ],
   "source": [
    "import numpy as np\n",
    "rng = np.random.default_rng()  # Add () to create a random number generator\n",
    "rng.random()\n",
    "rng.standard_normal(3)\n"
   ]
  },
  {
   "attachments": {},
   "cell_type": "markdown",
   "metadata": {},
   "source": [
    "## Task 4\n",
    "**Suppose you are flipping two coins, each with a probability p of giving heads. Plot the entropy of the total number of heads versus p.**"
   ]
  },
  {
   "attachments": {},
   "cell_type": "markdown",
   "metadata": {},
   "source": [
    "## Task 5\n",
    "**Create an appropriate individual plot for each of the variables in the penguin data set.**"
   ]
  },
  {
   "attachments": {},
   "cell_type": "markdown",
   "metadata": {},
   "source": [
    "***\n",
    "## End"
   ]
  }
 ],
 "metadata": {
  "kernelspec": {
   "display_name": "Python 3",
   "language": "python",
   "name": "python3"
  },
  "language_info": {
   "codemirror_mode": {
    "name": "ipython",
    "version": 3
   },
   "file_extension": ".py",
   "mimetype": "text/x-python",
   "name": "python",
   "nbconvert_exporter": "python",
   "pygments_lexer": "ipython3",
   "version": "3.11.1"
  },
  "orig_nbformat": 4,
  "vscode": {
   "interpreter": {
    "hash": "ff4b1fca65a764b45acb559e482afe389d289dd599b9f8c5fd12ff5c2ea46a65"
   }
  }
 },
 "nbformat": 4,
 "nbformat_minor": 2
}
